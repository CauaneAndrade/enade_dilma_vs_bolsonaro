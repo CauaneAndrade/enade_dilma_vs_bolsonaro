{
 "metadata": {
  "language_info": {
   "codemirror_mode": {
    "name": "ipython",
    "version": 3
   },
   "file_extension": ".py",
   "mimetype": "text/x-python",
   "name": "python",
   "nbconvert_exporter": "python",
   "pygments_lexer": "ipython3",
   "version": "3.8.5-final"
  },
  "orig_nbformat": 2,
  "kernelspec": {
   "name": "python38564bitvenvvenv2f5c475001d1466ab67485724d2ab482",
   "display_name": "Python 3.8.5 64-bit ('.venv': venv)"
  }
 },
 "nbformat": 4,
 "nbformat_minor": 2,
 "cells": [
  {
   "cell_type": "code",
   "execution_count": 1,
   "metadata": {},
   "outputs": [],
   "source": [
    "import pandas as pd\n",
    "low_memory=False"
   ]
  },
  {
   "cell_type": "code",
   "execution_count": 2,
   "metadata": {},
   "outputs": [],
   "source": [
    "dic = \"\"\"\n",
    "Fonte dados - Enade: https://www.gov.br/inep/pt-br/acesso-a-informacao/dados-abertos/microdados/enade\n",
    "\n",
    "cod: QE_I12\n",
    "questao:\n",
    "12. Ao longo da sua trajetória acadêmica, você recebeu algum tipo de auxílio permanência? No caso de haver\n",
    "mais de uma opção, marcar apenas a bolsa de maior duração.\n",
    "opçoes de resposta:\n",
    "A - Nenhum.\n",
    "B - Auxílio moradia.\n",
    "C - Auxílio alimentação.\n",
    "D - Auxílio moradia e alimentação.\n",
    "E - Auxílio permanência.\n",
    "F - Outro tipo de auxílio.\n",
    "\n",
    "cod: QE_I13\n",
    "questão:\n",
    "13. Ao longo da sua trajetória acadêmica, você recebeu algum tipo de bolsa acadêmica? No caso de haver\n",
    "mais de uma opção, marcar apenas a bolsa de maior duração.\n",
    "opçoes de resposta:\n",
    "A - Nenhum.\n",
    "B - Bolsa de iniciação científica.\n",
    "C - Bolsa de extensão.\n",
    "D - Bolsa de monitoria/tutoria.\n",
    "E - Bolsa PET.\n",
    "F - Outro tipo de bolsa acadêmica.\n",
    "\"\"\""
   ]
  },
  {
   "cell_type": "code",
   "execution_count": 3,
   "metadata": {},
   "outputs": [],
   "source": [
    "cols = [\n",
    "\"NU_ANO\",\n",
    "\"CO_UF_CURSO\",\n",
    "\"NU_IDADE\",\n",
    "\"TP_SEXO\",\n",
    "\"QE_I12\",\n",
    "\"QE_I13\",\n",
    "]"
   ]
  },
  {
   "cell_type": "code",
   "execution_count": 4,
   "metadata": {},
   "outputs": [],
   "source": [
    "# 2014 - 2015\n",
    "df_2014 = pd.read_csv(\n",
    "    './2014_2015/microdados_enade_2014/3.DADOS/MICRODADOS_ENADE_2014.csv',\n",
    "    usecols=cols\n",
    ")\n",
    "df_2015 = pd.read_csv(\n",
    "    './2014_2015/microdados_enade_2015/3.DADOS/MICRODADOS_ENADE_2015.csv',\n",
    "    usecols=cols\n",
    ")\n",
    "\n",
    "# 2018 - 2019\n",
    "df_2018 = pd.read_csv(\n",
    "    './2018_2019/microdados_enade_2018/2018/3.DADOS/microdados_enade_2018.csv',\n",
    "    usecols=cols\n",
    ")\n",
    "df_2019 = pd.read_csv(\n",
    "    './2018_2019/microdados_enade_2019/2019/3.DADOS/microdados_enade_2019.csv',\n",
    "    usecols=cols\n",
    ")"
   ]
  },
  {
   "cell_type": "code",
   "execution_count": 5,
   "metadata": {},
   "outputs": [],
   "source": [
    "frames_2014_2015 = [df_2014, df_2015]\n",
    "df_total_2014_2015 = pd.concat(frames_2014_2015)\n",
    "\n",
    "frames_2018_2019 = [df_2018, df_2019]\n",
    "df_total_2018_2019 = pd.concat(frames_2018_2019)"
   ]
  },
  {
   "cell_type": "code",
   "execution_count": 6,
   "metadata": {},
   "outputs": [],
   "source": [
    "valid_options_qe = [\"A\", \"B\", \"C\", \"D\", \"E\", \"F\"]\n",
    "df_total_2018_2019 = df_total_2018_2019[\n",
    "    df_total_2018_2019.QE_I12.isin(valid_options_qe) &\n",
    "    df_total_2018_2019.QE_I13.isin(valid_options_qe)\n",
    "]"
   ]
  },
  {
   "cell_type": "code",
   "execution_count": 7,
   "metadata": {},
   "outputs": [],
   "source": [
    "def get_questao_dict_12():\n",
    "    return {\n",
    "        'opcoes': \"\"\"Dicionário das opções de resposta: \\n A - Nenhum. \\n B - Auxílio moradia. \\n C - Auxílio alimentação. \\n D - Auxílio moradia e alimentação.  \\n E - Auxílio permanência. \\n F - Outro tipo de auxílio.\"\"\",\n",
    "        'pergunta': \"Questão 12 - Ao longo da sua trajetória acadêmica, você recebeu algum tipo de auxílio permanência? No caso de haver mais de uma opção, marcar apenas a bolsa de maior duração.\"\n",
    "    }\n",
    "\n",
    "def get_questao_dict_13():\n",
    "    return {\n",
    "        'opcoes': \"\"\"Dicionário das opções de resposta: \\n A - Nenhum. \\n B - Bolsa de iniciação científica. \\n C - Bolsa de extensão. \\n D - Bolsa de monitoria/tutoria.  \\n E - Bolsa PET. \\n F - Outro tipo de bolsa acadêmica.\"\"\",\n",
    "        'pergunta': \"Questão 13 - Ao longo da sua trajetória acadêmica, você recebeu algum tipo de bolsa acadêmica? No caso de haver mais de uma opção, marcar apenas a bolsa de maior duração\"\n",
    "    }"
   ]
  },
  {
   "cell_type": "code",
   "execution_count": 8,
   "metadata": {},
   "outputs": [
    {
     "output_type": "stream",
     "name": "stdout",
     "text": [
      "Perído de 2014 a 2015\nQuestão 12 - Ao longo da sua trajetória acadêmica, você recebeu algum tipo de auxílio permanência? No caso de haver mais de uma opção, marcar apenas a bolsa de maior duração.\nDicionário das opções de resposta: \n A - Nenhum. \n B - Auxílio moradia. \n C - Auxílio alimentação. \n D - Auxílio moradia e alimentação.  \n E - Auxílio permanência. \n F - Outro tipo de auxílio.\nTotal de respostas: 887238\nQuantidade por opção de resposta:\n"
     ]
    },
    {
     "output_type": "execute_result",
     "data": {
      "text/plain": [
       "A    827806\n",
       "F     28937\n",
       "E     14305\n",
       "C      8958\n",
       "D      3905\n",
       "B      3327\n",
       "Name: QE_I12, dtype: int64"
      ]
     },
     "metadata": {},
     "execution_count": 8
    }
   ],
   "source": [
    "print(\"Perído de 2014 a 2015\")\n",
    "\n",
    "print(get_questao_dict_12()['pergunta'])\n",
    "print(get_questao_dict_12()['opcoes'])\n",
    "\n",
    "total_resp_2014_2015 = df_total_2014_2015['QE_I12'].count()\n",
    "print(f\"Total de respostas: {total_resp_2014_2015}\")\n",
    "\n",
    "print(\"Quantidade por opção de resposta:\")\n",
    "df_total_2014_2015['QE_I12'].value_counts()"
   ]
  },
  {
   "cell_type": "code",
   "execution_count": 9,
   "metadata": {},
   "outputs": [
    {
     "output_type": "stream",
     "name": "stdout",
     "text": [
      "Perído de 2018 a 2019\n",
      "Questão 12 - Ao longo da sua trajetória acadêmica, você recebeu algum tipo de auxílio permanência? No caso de haver mais de uma opção, marcar apenas a bolsa de maior duração.\n",
      "Dicionário das opções de resposta: \n",
      " A - Nenhum. \n",
      " B - Auxílio moradia. \n",
      " C - Auxílio alimentação. \n",
      " D - Auxílio moradia e alimentação.  \n",
      " E - Auxílio permanência. \n",
      " F - Outro tipo de auxílio.\n",
      "Total de respostas: 866011\n",
      "Quantidade por opção de resposta:\n"
     ]
    },
    {
     "output_type": "execute_result",
     "data": {
      "text/plain": [
       "B    259912\n",
       "C    187147\n",
       "A    144599\n",
       "D    141221\n",
       "E     88569\n",
       "F     44563\n",
       "Name: QE_I12, dtype: int64"
      ]
     },
     "metadata": {},
     "execution_count": 9
    }
   ],
   "source": [
    "print(\"Perído de 2018 a 2019\")\n",
    "\n",
    "print(get_questao_dict_12()['pergunta'])\n",
    "print(get_questao_dict_12()['opcoes'])\n",
    "\n",
    "total_resp_2018_2019 = df_total_2018_2019['QE_I12'].count()\n",
    "print(f\"Total de respostas: {total_resp_2018_2019}\")\n",
    "\n",
    "print(\"Quantidade por opção de resposta:\")\n",
    "df_total_2018_2019['QE_I12'].value_counts()"
   ]
  },
  {
   "cell_type": "code",
   "execution_count": 10,
   "metadata": {},
   "outputs": [
    {
     "output_type": "stream",
     "name": "stdout",
     "text": [
      "Perído de 2014 a 2015\n",
      "Questão 13 - Ao longo da sua trajetória acadêmica, você recebeu algum tipo de bolsa acadêmica? No caso de haver mais de uma opção, marcar apenas a bolsa de maior duração\n",
      "Dicionário das opções de resposta: \n",
      " A - Nenhum. \n",
      " B - Bolsa de iniciação científica. \n",
      " C - Bolsa de extensão. \n",
      " D - Bolsa de monitoria/tutoria.  \n",
      " E - Bolsa PET. \n",
      " F - Outro tipo de bolsa acadêmica.\n",
      "Total de respostas: 886992\n",
      "Quantidade por opção de resposta:\n"
     ]
    },
    {
     "output_type": "execute_result",
     "data": {
      "text/plain": [
       "A    743055\n",
       "F     61713\n",
       "B     42042\n",
       "C     18344\n",
       "D     18045\n",
       "E      3793\n",
       "Name: QE_I13, dtype: int64"
      ]
     },
     "metadata": {},
     "execution_count": 10
    }
   ],
   "source": [
    "print(\"Perído de 2014 a 2015\")\n",
    "\n",
    "print(get_questao_dict_13()['pergunta'])\n",
    "print(get_questao_dict_13()['opcoes'])\n",
    "\n",
    "total_resp_2014_2015 = df_total_2014_2015['QE_I13'].count()\n",
    "print(f\"Total de respostas: {total_resp_2014_2015}\")\n",
    "\n",
    "print(\"Quantidade por opção de resposta:\")\n",
    "df_total_2014_2015['QE_I13'].value_counts()"
   ]
  },
  {
   "cell_type": "code",
   "execution_count": 11,
   "metadata": {},
   "outputs": [
    {
     "output_type": "stream",
     "name": "stdout",
     "text": [
      "Perído de 2018 a 2019\nQuestão 13 - Ao longo da sua trajetória acadêmica, você recebeu algum tipo de bolsa acadêmica? No caso de haver mais de uma opção, marcar apenas a bolsa de maior duração\nDicionário das opções de resposta: \n A - Nenhum. \n B - Bolsa de iniciação científica. \n C - Bolsa de extensão. \n D - Bolsa de monitoria/tutoria.  \n E - Bolsa PET. \n F - Outro tipo de bolsa acadêmica.\nTotal de respostas: 886992\nQuantidade por opção de resposta:\n"
     ]
    },
    {
     "output_type": "execute_result",
     "data": {
      "text/plain": [
       "B    218722\n",
       "C    184656\n",
       "A    168543\n",
       "D    122946\n",
       "E    119490\n",
       "F     51654\n",
       "Name: QE_I13, dtype: int64"
      ]
     },
     "metadata": {},
     "execution_count": 11
    }
   ],
   "source": [
    "print(\"Perído de 2018 a 2019\")\n",
    "\n",
    "print(get_questao_dict_13()['pergunta'])\n",
    "print(get_questao_dict_13()['opcoes'])\n",
    "\n",
    "total_resp_2018_2019 = df_total_2014_2015['QE_I13'].count()\n",
    "print(f\"Total de respostas: {total_resp_2018_2019}\")\n",
    "\n",
    "print(\"Quantidade por opção de resposta:\")\n",
    "df_total_2018_2019['QE_I13'].value_counts()"
   ]
  }
 ]
}